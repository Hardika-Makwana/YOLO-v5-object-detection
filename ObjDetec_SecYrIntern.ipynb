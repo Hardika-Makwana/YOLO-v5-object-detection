{
 "cells": [
  {
   "cell_type": "code",
   "execution_count": 7,
   "id": "2673bfd8-e610-43b6-8384-dea0c154e44c",
   "metadata": {},
   "outputs": [],
   "source": [
    "import torch\n",
    "import tensorflow as tf\n",
    "import tensorboard\n",
    "from IPython.display import Image"
   ]
  },
  {
   "cell_type": "code",
   "execution_count": 8,
   "id": "735d9cb4-7b2b-47b1-9017-dcc9d94c0557",
   "metadata": {},
   "outputs": [
    {
     "name": "stdout",
     "output_type": "stream",
     "text": [
      "C:\\Users\\Hardika\\yolov5\n"
     ]
    }
   ],
   "source": [
    "%cd C:\\Users\\Hardika\\yolov5"
   ]
  },
  {
   "cell_type": "code",
   "execution_count": 3,
   "id": "03c688ee-2b0b-43e4-8ffe-b426f6332ef9",
   "metadata": {},
   "outputs": [
    {
     "name": "stdout",
     "output_type": "stream",
     "text": [
      "Defaulting to user installation because normal site-packages is not writeable\n",
      "Requirement already satisfied: gitpython>=3.1.30 in c:\\users\\hardika\\appdata\\roaming\\python\\python310\\site-packages (from -r requirements.txt (line 5)) (3.1.44)\n",
      "Requirement already satisfied: matplotlib>=3.3 in c:\\users\\hardika\\appdata\\roaming\\python\\python310\\site-packages (from -r requirements.txt (line 6)) (3.10.0)\n",
      "Requirement already satisfied: numpy>=1.23.5 in c:\\users\\hardika\\appdata\\roaming\\python\\python310\\site-packages (from -r requirements.txt (line 7)) (1.26.0)\n",
      "Requirement already satisfied: opencv-python>=4.1.1 in c:\\users\\hardika\\appdata\\roaming\\python\\python310\\site-packages (from -r requirements.txt (line 8)) (4.11.0.86)\n",
      "Requirement already satisfied: pillow>=10.3.0 in c:\\users\\hardika\\appdata\\roaming\\python\\python310\\site-packages (from -r requirements.txt (line 9)) (11.1.0)\n",
      "Requirement already satisfied: psutil in c:\\users\\hardika\\appdata\\roaming\\python\\python310\\site-packages (from -r requirements.txt (line 10)) (7.0.0)\n",
      "Requirement already satisfied: PyYAML>=5.3.1 in c:\\users\\hardika\\appdata\\roaming\\python\\python310\\site-packages (from -r requirements.txt (line 11)) (6.0.2)\n",
      "Requirement already satisfied: requests>=2.32.2 in c:\\users\\hardika\\appdata\\roaming\\python\\python310\\site-packages (from -r requirements.txt (line 12)) (2.32.3)\n",
      "Requirement already satisfied: scipy>=1.4.1 in c:\\users\\hardika\\appdata\\roaming\\python\\python310\\site-packages (from -r requirements.txt (line 13)) (1.15.2)\n",
      "Requirement already satisfied: thop>=0.1.1 in c:\\users\\hardika\\appdata\\roaming\\python\\python310\\site-packages (from -r requirements.txt (line 14)) (0.1.1.post2209072238)\n",
      "Requirement already satisfied: torch>=1.8.0 in c:\\users\\hardika\\appdata\\roaming\\python\\python310\\site-packages (from -r requirements.txt (line 15)) (2.6.0)\n",
      "Requirement already satisfied: torchvision>=0.9.0 in c:\\users\\hardika\\appdata\\roaming\\python\\python310\\site-packages (from -r requirements.txt (line 16)) (0.21.0)\n",
      "Requirement already satisfied: tqdm>=4.66.3 in c:\\users\\hardika\\appdata\\roaming\\python\\python310\\site-packages (from -r requirements.txt (line 17)) (4.67.1)\n",
      "Requirement already satisfied: ultralytics>=8.2.34 in c:\\users\\hardika\\appdata\\roaming\\python\\python310\\site-packages (from -r requirements.txt (line 18)) (8.3.75)\n",
      "Requirement already satisfied: pandas>=1.1.4 in c:\\users\\hardika\\appdata\\roaming\\python\\python310\\site-packages (from -r requirements.txt (line 27)) (2.2.3)\n",
      "Requirement already satisfied: seaborn>=0.11.0 in c:\\users\\hardika\\appdata\\roaming\\python\\python310\\site-packages (from -r requirements.txt (line 28)) (0.13.2)\n",
      "Requirement already satisfied: setuptools>=70.0.0 in c:\\users\\hardika\\appdata\\roaming\\python\\python310\\site-packages (from -r requirements.txt (line 42)) (75.8.0)\n",
      "Requirement already satisfied: gitdb<5,>=4.0.1 in c:\\users\\hardika\\appdata\\roaming\\python\\python310\\site-packages (from gitpython>=3.1.30->-r requirements.txt (line 5)) (4.0.12)\n",
      "Requirement already satisfied: contourpy>=1.0.1 in c:\\users\\hardika\\appdata\\roaming\\python\\python310\\site-packages (from matplotlib>=3.3->-r requirements.txt (line 6)) (1.2.1)\n",
      "Requirement already satisfied: cycler>=0.10 in c:\\users\\hardika\\appdata\\roaming\\python\\python310\\site-packages (from matplotlib>=3.3->-r requirements.txt (line 6)) (0.12.1)\n",
      "Requirement already satisfied: fonttools>=4.22.0 in c:\\users\\hardika\\appdata\\roaming\\python\\python310\\site-packages (from matplotlib>=3.3->-r requirements.txt (line 6)) (4.53.1)\n",
      "Requirement already satisfied: kiwisolver>=1.3.1 in c:\\users\\hardika\\appdata\\roaming\\python\\python310\\site-packages (from matplotlib>=3.3->-r requirements.txt (line 6)) (1.4.5)\n",
      "Requirement already satisfied: packaging>=20.0 in c:\\users\\hardika\\appdata\\roaming\\python\\python310\\site-packages (from matplotlib>=3.3->-r requirements.txt (line 6)) (24.2)\n",
      "Requirement already satisfied: pyparsing>=2.3.1 in c:\\users\\hardika\\appdata\\roaming\\python\\python310\\site-packages (from matplotlib>=3.3->-r requirements.txt (line 6)) (3.1.2)\n",
      "Requirement already satisfied: python-dateutil>=2.7 in c:\\users\\hardika\\appdata\\roaming\\python\\python310\\site-packages (from matplotlib>=3.3->-r requirements.txt (line 6)) (2.9.0.post0)\n",
      "Requirement already satisfied: charset-normalizer<4,>=2 in c:\\users\\hardika\\appdata\\roaming\\python\\python310\\site-packages (from requests>=2.32.2->-r requirements.txt (line 12)) (3.4.1)\n",
      "Requirement already satisfied: idna<4,>=2.5 in c:\\users\\hardika\\appdata\\roaming\\python\\python310\\site-packages (from requests>=2.32.2->-r requirements.txt (line 12)) (3.10)\n",
      "Requirement already satisfied: urllib3<3,>=1.21.1 in c:\\users\\hardika\\appdata\\roaming\\python\\python310\\site-packages (from requests>=2.32.2->-r requirements.txt (line 12)) (2.3.0)\n",
      "Requirement already satisfied: certifi>=2017.4.17 in c:\\users\\hardika\\appdata\\roaming\\python\\python310\\site-packages (from requests>=2.32.2->-r requirements.txt (line 12)) (2024.12.14)\n",
      "Requirement already satisfied: filelock in c:\\users\\hardika\\appdata\\roaming\\python\\python310\\site-packages (from torch>=1.8.0->-r requirements.txt (line 15)) (3.17.0)\n",
      "Requirement already satisfied: typing-extensions>=4.10.0 in c:\\users\\hardika\\appdata\\roaming\\python\\python310\\site-packages (from torch>=1.8.0->-r requirements.txt (line 15)) (4.12.2)\n",
      "Requirement already satisfied: networkx in c:\\users\\hardika\\appdata\\roaming\\python\\python310\\site-packages (from torch>=1.8.0->-r requirements.txt (line 15)) (3.4.2)\n",
      "Requirement already satisfied: jinja2 in c:\\users\\hardika\\appdata\\roaming\\python\\python310\\site-packages (from torch>=1.8.0->-r requirements.txt (line 15)) (3.1.5)\n",
      "Requirement already satisfied: fsspec in c:\\users\\hardika\\appdata\\roaming\\python\\python310\\site-packages (from torch>=1.8.0->-r requirements.txt (line 15)) (2025.2.0)\n",
      "Requirement already satisfied: sympy==1.13.1 in c:\\users\\hardika\\appdata\\roaming\\python\\python310\\site-packages (from torch>=1.8.0->-r requirements.txt (line 15)) (1.13.1)\n",
      "Requirement already satisfied: mpmath<1.4,>=1.1.0 in c:\\users\\hardika\\appdata\\roaming\\python\\python310\\site-packages (from sympy==1.13.1->torch>=1.8.0->-r requirements.txt (line 15)) (1.3.0)\n",
      "Requirement already satisfied: colorama in c:\\users\\hardika\\appdata\\roaming\\python\\python310\\site-packages (from tqdm>=4.66.3->-r requirements.txt (line 17)) (0.4.6)\n",
      "Requirement already satisfied: py-cpuinfo in c:\\users\\hardika\\appdata\\roaming\\python\\python310\\site-packages (from ultralytics>=8.2.34->-r requirements.txt (line 18)) (9.0.0)\n",
      "Requirement already satisfied: ultralytics-thop>=2.0.0 in c:\\users\\hardika\\appdata\\roaming\\python\\python310\\site-packages (from ultralytics>=8.2.34->-r requirements.txt (line 18)) (2.0.14)\n",
      "Requirement already satisfied: pytz>=2020.1 in c:\\users\\hardika\\appdata\\roaming\\python\\python310\\site-packages (from pandas>=1.1.4->-r requirements.txt (line 27)) (2024.1)\n",
      "Requirement already satisfied: tzdata>=2022.7 in c:\\users\\hardika\\appdata\\roaming\\python\\python310\\site-packages (from pandas>=1.1.4->-r requirements.txt (line 27)) (2024.1)\n",
      "Requirement already satisfied: smmap<6,>=3.0.1 in c:\\users\\hardika\\appdata\\roaming\\python\\python310\\site-packages (from gitdb<5,>=4.0.1->gitpython>=3.1.30->-r requirements.txt (line 5)) (5.0.2)\n",
      "Requirement already satisfied: six>=1.5 in c:\\users\\hardika\\appdata\\roaming\\python\\python310\\site-packages (from python-dateutil>=2.7->matplotlib>=3.3->-r requirements.txt (line 6)) (1.17.0)\n",
      "Requirement already satisfied: MarkupSafe>=2.0 in c:\\users\\hardika\\appdata\\roaming\\python\\python310\\site-packages (from jinja2->torch>=1.8.0->-r requirements.txt (line 15)) (3.0.2)\n"
     ]
    }
   ],
   "source": [
    "!pip install -r requirements.txt"
   ]
  },
  {
   "cell_type": "code",
   "execution_count": 5,
   "id": "7b945a44-efbd-465f-9f77-297a69d42141",
   "metadata": {},
   "outputs": [
    {
     "name": "stdout",
     "output_type": "stream",
     "text": [
      "training images are :  592\n",
      "Validation images are :  148\n"
     ]
    }
   ],
   "source": [
    "import os\n",
    "from random import choice\n",
    "import shutil\n",
    "\n",
    "#arrays to store file names\n",
    "imgs =[]\n",
    "xmls =[]\n",
    "\n",
    "#setup dir names\n",
    "trainPath = r\"C:\\Users\\Hardika\\Desktop\\Intern_2ndyear_objDetection\\TrafficSign_objDet_dataset_split\\imagesT\\train_Im\"\n",
    "valPath = r\"C:\\Users\\Hardika\\Desktop\\Intern_2ndyear_objDetection\\TrafficSign_objDet_dataset_split\\imagesT\\val_Im\"\n",
    "crsPath = r\"C:\\Users\\Hardika\\Desktop\\Intern_2ndyear_objDetection\\traffic_sign_det_dataset\\ts\\ts\"\n",
    "\n",
    "#setup ratio (val ratio = rest of the files in origin dir after splitting into train and test)\n",
    "train_ratio = 0.8\n",
    "val_ratio = 0.2\n",
    "\n",
    "\n",
    "#total count of imgs\n",
    "totalImgCount = len(os.listdir(crsPath))/2\n",
    "\n",
    "#soring files to corresponding arrays\n",
    "for (dirname, dirs, files) in os.walk(crsPath):\n",
    "    for filename in files:\n",
    "        if filename.endswith('.txt'):\n",
    "            xmls.append(filename)\n",
    "        else:\n",
    "            imgs.append(filename)\n",
    "\n",
    "\n",
    "#counting range for cycles\n",
    "countForTrain = int(len(imgs)*train_ratio)\n",
    "countForVal = int(len(imgs)*val_ratio)\n",
    "print(\"training images are : \",countForTrain)\n",
    "print(\"Validation images are : \",countForVal)"
   ]
  },
  {
   "cell_type": "code",
   "execution_count": 6,
   "id": "e2c3fd26-769e-471b-9448-be09e113baac",
   "metadata": {},
   "outputs": [
    {
     "data": {
      "text/plain": [
       "'C:\\\\Users\\\\Hardika\\\\Desktop\\\\Intern_2ndyear_objDetection\\\\TrafficSign_objDet_dataset_split\\\\imagesT\\\\val_Im\\\\ts'"
      ]
     },
     "execution_count": 6,
     "metadata": {},
     "output_type": "execute_result"
    }
   ],
   "source": [
    "trainimagePath = r\"C:\\Users\\Hardika\\Desktop\\Intern_2ndyear_objDetection\\TrafficSign_objDet_dataset_split\\imagesT\\train_Im\"\n",
    "trainlabelPath = r\"C:\\Users\\Hardika\\Desktop\\Intern_2ndyear_objDetection\\TrafficSign_objDet_dataset_split\\labelsT\\train_L\"\n",
    "valimagePath = r\"C:\\Users\\Hardika\\Desktop\\Intern_2ndyear_objDetection\\TrafficSign_objDet_dataset_split\\imagesT\\val_Im\"\n",
    "vallabelPath = r\"C:\\Users\\Hardika\\Desktop\\Intern_2ndyear_objDetection\\TrafficSign_objDet_dataset_split\\labelsT\\val_L\"\n",
    "#cycle for train dir\n",
    "for x in range(countForTrain):\n",
    "\n",
    "    fileJpg = choice(imgs) # get name of random image from origin dir\n",
    "    fileXml = fileJpg[:-4] +'.txt' # get name of corresponding annotation file\n",
    "\n",
    "    #move both files into train dir\n",
    "    #shutil.move(os.path.join(crsPath, fileJpg), os.path.join(trainimagePath, fileJpg))\n",
    "    #shutil.move(os.path.join(crsPath, fileXml), os.path.join(trainlabelPath, fileXml))\n",
    "    shutil.copy(os.path.join(crsPath, fileJpg), os.path.join(trainimagePath, fileJpg))\n",
    "    shutil.copy(os.path.join(crsPath, fileXml), os.path.join(trainlabelPath, fileXml))\n",
    "\n",
    "\n",
    "    #remove files from arrays\n",
    "    imgs.remove(fileJpg)\n",
    "    xmls.remove(fileXml)\n",
    "\n",
    "\n",
    "\n",
    "#cycle for test dir   \n",
    "for x in range(countForVal):\n",
    "\n",
    "    fileJpg = choice(imgs) # get name of random image from origin dir\n",
    "    fileXml = fileJpg[:-4] +'.txt' # get name of corresponding annotation file\n",
    "\n",
    "    #move both files into train dir\n",
    "    #shutil.move(os.path.join(crsPath, fileJpg), os.path.join(valimagePath, fileJpg))\n",
    "    #shutil.move(os.path.join(crsPath, fileXml), os.path.join(vallabelPath, fileXml))\n",
    "    shutil.copy(os.path.join(crsPath, fileJpg), os.path.join(valimagePath, fileJpg))\n",
    "    shutil.copy(os.path.join(crsPath, fileXml), os.path.join(vallabelPath, fileXml))\n",
    "    \n",
    "    #remove files from arrays\n",
    "    imgs.remove(fileJpg)\n",
    "    xmls.remove(fileXml)\n",
    "\n",
    "#rest of files will be validation files, so rename origin dir to val dir\n",
    "#os.rename(crsPath, valPath)\n",
    "shutil.move(crsPath, valPath) "
   ]
  },
  {
   "cell_type": "code",
   "execution_count": 8,
   "id": "e83f66c4-ba9c-4faa-a1c0-776ad3f54abf",
   "metadata": {},
   "outputs": [],
   "source": [
    "with open(r\"C:\\Users\\Hardika\\Desktop\\Intern_2ndyear_objDetection\\TrafficSign_objDet_dataset_split\\data.yaml\", \"w\") as f:\n",
    "    pass  # Creates an empty file\n"
   ]
  },
  {
   "cell_type": "code",
   "execution_count": 13,
   "id": "caf4252b-df96-4655-9882-2568da74d0a7",
   "metadata": {},
   "outputs": [
    {
     "name": "stdout",
     "output_type": "stream",
     "text": [
      "Labels moved successfully!\n"
     ]
    }
   ],
   "source": [
    "import shutil\n",
    "import glob\n",
    "\n",
    "# Define paths\n",
    "label_train_path = r\"C:\\Users\\Hardika\\Desktop\\Intern_2ndyear_objDetection\\TrafficSign_objDet_dataset_split\\labelsT\\train_L\"\n",
    "label_val_path = r\"C:\\Users\\Hardika\\Desktop\\Intern_2ndyear_objDetection\\TrafficSign_objDet_dataset_split\\labelsT\\val_L\"\n",
    "\n",
    "image_train_path = r\"C:\\Users\\Hardika\\Desktop\\Intern_2ndyear_objDetection\\TrafficSign_objDet_dataset_split\\imagesT\\train_Im\"\n",
    "image_val_path = r\"C:\\Users\\Hardika\\Desktop\\Intern_2ndyear_objDetection\\TrafficSign_objDet_dataset_split\\imagesT\\val_Im\"\n",
    "\n",
    "# Move all label files to the corresponding image folder\n",
    "for label_file in glob.glob(f\"{label_train_path}/*.txt\"):\n",
    "    shutil.move(label_file, image_train_path)\n",
    "\n",
    "for label_file in glob.glob(f\"{label_val_path}/*.txt\"):\n",
    "    shutil.move(label_file, image_val_path)\n",
    "\n",
    "print(\"Labels moved successfully!\")\n"
   ]
  },
  {
   "cell_type": "code",
   "execution_count": 1,
   "id": "2fbb68b9-ffd5-405f-9d7c-69c83ce5e747",
   "metadata": {},
   "outputs": [
    {
     "data": {
      "text/plain": [
       "'system getting crashed , so using jupyter notebook for training'"
      ]
     },
     "execution_count": 1,
     "metadata": {},
     "output_type": "execute_result"
    }
   ],
   "source": [
    "\"\"\"system getting crashed , so using jupyter notebook for training\"\"\" "
   ]
  },
  {
   "cell_type": "code",
   "execution_count": null,
   "id": "007ba7f6-6c25-4673-a922-be86c823df66",
   "metadata": {},
   "outputs": [],
   "source": [
    "C:\\Users\\Hardika\\Desktop\\Intern_2ndyear_objDetection\\TrafficSign_objDet_dataset_split\\traffic_sign_dataset.zip\\train_sign_obj_det_Updated_dataset_st"
   ]
  }
 ],
 "metadata": {
  "kernelspec": {
   "display_name": "Python 3 (ipykernel)",
   "language": "python",
   "name": "python3"
  },
  "language_info": {
   "codemirror_mode": {
    "name": "ipython",
    "version": 3
   },
   "file_extension": ".py",
   "mimetype": "text/x-python",
   "name": "python",
   "nbconvert_exporter": "python",
   "pygments_lexer": "ipython3",
   "version": "3.10.8"
  }
 },
 "nbformat": 4,
 "nbformat_minor": 5
}
